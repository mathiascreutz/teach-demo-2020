{
 "cells": [
  {
   "cell_type": "markdown",
   "metadata": {},
   "source": [
    "## Tf-idf demo on the books in the Gutenberg corpus in NLTK\n",
    "\n",
    "*By Mathias Creutz*\n",
    "\n",
    "Let's compute tf-idf scores for words occurring in the different books in the NLTK version of the Gutenberg corpus.\n",
    "\n",
    "First we take a look at **what books there are** in the corpus:"
   ]
  },
  {
   "cell_type": "code",
   "execution_count": 1,
   "metadata": {
    "scrolled": true
   },
   "outputs": [
    {
     "name": "stdout",
     "output_type": "stream",
     "text": [
      "austen-emma.txt          [ Emma by Jane Austen 1816 ]\n",
      "austen-persuasion.txt    [ Persuasion by Jane Austen 1818 ]\n",
      "austen-sense.txt         [ Sense and Sensibility by Jane Austen 1811 ]\n",
      "bible-kjv.txt            [ The King James Bible ]\n",
      "blake-poems.txt          [ Poems by William Blake 1789 ]\n",
      "bryant-stories.txt       [ Stories to Tell to Children by Sara Cone Bryant 1918 ]\n",
      "burgess-busterbrown.txt  [ The Adventures of Buster Bear by Thornton W . Burgess 1920 ]\n",
      "carroll-alice.txt        [ Alice ' s Adventures in Wonderland by Lewis Carroll 1865 ]\n",
      "chesterton-ball.txt      [ The Ball and The Cross by G . K . Chesterton 1909 ]\n",
      "chesterton-brown.txt     [ The Wisdom of Father Brown by G . K . Chesterton 1914 ]\n",
      "chesterton-thursday.txt  [ The Man Who Was Thursday by G . K . Chesterton 1908 ]\n",
      "edgeworth-parents.txt    [ The Parent ' s Assistant , by Maria Edgeworth ]\n",
      "melville-moby_dick.txt   [ Moby Dick by Herman Melville 1851 ]\n",
      "milton-paradise.txt      [ Paradise Lost by John Milton 1667 ]\n",
      "shakespeare-caesar.txt   [ The Tragedie of Julius Caesar by William Shakespeare 1599 ]\n",
      "shakespeare-hamlet.txt   [ The Tragedie of Hamlet by William Shakespeare 1599 ]\n",
      "shakespeare-macbeth.txt  [ The Tragedie of Macbeth by William Shakespeare 1603 ]\n",
      "whitman-leaves.txt       [ Leaves of Grass by Walt Whitman 1855 ]\n"
     ]
    }
   ],
   "source": [
    "import nltk\n",
    "\n",
    "booknames = nltk.corpus.gutenberg.fileids()\n",
    "\n",
    "for name in booknames:\n",
    "    print(\"{:24s} {:s}\".format(name, \" \".join(nltk.corpus.gutenberg.sents(name)[0])))"
   ]
  },
  {
   "cell_type": "markdown",
   "metadata": {},
   "source": [
    "**How many word tokens** do these books contain?"
   ]
  },
  {
   "cell_type": "code",
   "execution_count": 2,
   "metadata": {},
   "outputs": [
    {
     "name": "stdout",
     "output_type": "stream",
     "text": [
      "austen-emma.txt           192427\n",
      "austen-persuasion.txt      98171\n",
      "austen-sense.txt          141576\n",
      "bible-kjv.txt            1010654\n",
      "blake-poems.txt             8354\n",
      "bryant-stories.txt         55563\n",
      "burgess-busterbrown.txt    18963\n",
      "carroll-alice.txt          34110\n",
      "chesterton-ball.txt        96996\n",
      "chesterton-brown.txt       86063\n",
      "chesterton-thursday.txt    69213\n",
      "edgeworth-parents.txt     210663\n",
      "melville-moby_dick.txt    260819\n",
      "milton-paradise.txt        96825\n",
      "shakespeare-caesar.txt     25833\n",
      "shakespeare-hamlet.txt     37360\n",
      "shakespeare-macbeth.txt    23140\n",
      "whitman-leaves.txt        154883\n"
     ]
    }
   ],
   "source": [
    "for name in booknames:\n",
    "    print(\"{:24s} {:7d}\".format(name, len(nltk.corpus.gutenberg.words(name))))"
   ]
  },
  {
   "cell_type": "markdown",
   "metadata": {},
   "source": [
    "Let's have a look **how many word tokens there are in all books combined**."
   ]
  },
  {
   "cell_type": "code",
   "execution_count": 3,
   "metadata": {},
   "outputs": [
    {
     "name": "stdout",
     "output_type": "stream",
     "text": [
      "Total number of word tokens: 2621613\n"
     ]
    }
   ],
   "source": [
    "ntot_tokens = sum(len(nltk.corpus.gutenberg.words(name)) for name in booknames)\n",
    "print(\"Total number of word tokens:\", ntot_tokens)"
   ]
  },
  {
   "cell_type": "markdown",
   "metadata": {},
   "source": [
    "What is the **size of the vocabulary**? How many different unique word forms (word types) are there in this corpus?"
   ]
  },
  {
   "cell_type": "code",
   "execution_count": 4,
   "metadata": {},
   "outputs": [
    {
     "name": "stdout",
     "output_type": "stream",
     "text": [
      "Total number of word types (which are our terms): 42339\n"
     ]
    }
   ],
   "source": [
    "ntot_types = len(set(w.lower() for bookname in booknames \\\n",
    "                     for w in nltk.corpus.gutenberg.words(bookname)))\n",
    "print(\"Total number of word types (which are our terms):\", ntot_types)"
   ]
  },
  {
   "cell_type": "markdown",
   "metadata": {},
   "source": [
    "### Term frequencies\n",
    "\n",
    "Let's look at which words are the most common in the corpus as a whole (**term frequencies in the entire corpus**). "
   ]
  },
  {
   "cell_type": "code",
   "execution_count": 5,
   "metadata": {
    "scrolled": true
   },
   "outputs": [
    {
     "name": "stdout",
     "output_type": "stream",
     "text": [
      "The 70 most common word types in the Gutenberg corpus are:\n",
      ",        186091\n",
      "the      133583\n",
      "and       95442\n",
      ".         73746\n",
      "of        71267\n",
      "to        48057\n",
      ":         47406\n",
      "a         33960\n",
      "in        33580\n",
      "i         30265\n",
      "that      28798\n",
      ";         27329\n",
      "he        25857\n",
      "it        22303\n",
      "his       21402\n",
      "'         19873\n",
      "for       19527\n",
      "was       18715\n",
      "with      17599\n",
      "not       17373\n",
      "is        16435\n",
      "you       16398\n",
      "be        16115\n",
      "\"         15422\n",
      "as        14528\n",
      "but       13944\n",
      "all       13725\n",
      "they      13104\n",
      "him       13012\n",
      "shall     11682\n",
      "her       11552\n",
      "my        10511\n",
      "had       10317\n",
      "them      10245\n",
      "have      10116\n",
      "s          9896\n",
      "me         9469\n",
      "said       9429\n",
      "at         9174\n",
      "she        9078\n",
      "from       9076\n",
      "unto       9010\n",
      "this       8915\n",
      "-          8850\n",
      "which      8775\n",
      "on         8596\n",
      "lord       8590\n",
      "by         8512\n",
      "their      7806\n",
      "so         7791\n",
      "will       7368\n",
      "?          7342\n",
      "were       6871\n",
      "are        6854\n",
      "thou       6759\n",
      "there      6380\n",
      "when       6330\n",
      "or         6325\n",
      "one        6218\n",
      "no         5846\n",
      "what       5792\n",
      "out        5771\n",
      ".\"         5751\n",
      "!          5730\n",
      "man        5615\n",
      "thy        5609\n",
      "--         5445\n",
      "god        5287\n",
      "if         5245\n",
      "we         5134\n"
     ]
    }
   ],
   "source": [
    "fdist = nltk.FreqDist(w.lower() for bookname in booknames \\\n",
    "                      for w in nltk.corpus.gutenberg.words(bookname))\n",
    "\n",
    "print(\"The 70 most common word types in the Gutenberg corpus are:\")\n",
    "for w, f in fdist.most_common(70):\n",
    "    print(\"{:8s} {:6d}\".format(w, f))"
   ]
  },
  {
   "cell_type": "markdown",
   "metadata": {},
   "source": [
    "However, for the calculation of the tf-idf scores we need **document-specific term frequencies**. Let's look at the 20 most frequent words in a few of our documents (= books). Do we see any big differences between the documents?"
   ]
  },
  {
   "cell_type": "code",
   "execution_count": 6,
   "metadata": {
    "scrolled": true
   },
   "outputs": [
    {
     "name": "stdout",
     "output_type": "stream",
     "text": [
      "Most frequent words in austen-emma.txt:\n",
      ",         11454\n",
      ".          6928\n",
      "to         5239\n",
      "the        5201\n",
      "and        4896\n",
      "of         4291\n",
      "i          3178\n",
      "a          3129\n",
      "it         2528\n",
      "her        2469\n",
      "was        2398\n",
      "she        2340\n",
      ";          2199\n",
      "in         2188\n",
      "not        2140\n",
      "\"          2004\n",
      "you        1980\n",
      "be         1975\n",
      "that       1806\n",
      "he         1806\n",
      "\n",
      "Most frequent words in bible-kjv.txt:\n",
      ",         70509\n",
      "the       64023\n",
      "and       51696\n",
      ":         43766\n",
      "of        34670\n",
      ".         26160\n",
      "to        13580\n",
      "that      12912\n",
      "in        12667\n",
      "he        10419\n",
      ";         10084\n",
      "shall      9838\n",
      "unto       8997\n",
      "for        8971\n",
      "i          8854\n",
      "his        8473\n",
      "a          8177\n",
      "lord       7964\n",
      "they       7376\n",
      "be         7013\n",
      "\n",
      "Most frequent words in burgess-busterbrown.txt:\n",
      ".           823\n",
      ",           822\n",
      "he          678\n",
      "the         660\n",
      "and         516\n",
      "to          436\n",
      "'           401\n",
      "of          342\n",
      "that        308\n",
      "it          300\n",
      "a           287\n",
      "was         274\n",
      "buster      229\n",
      "had         211\n",
      "little      207\n",
      "his         184\n",
      "t           170\n",
      "\"           166\n",
      "as          163\n",
      "in          161\n",
      "\n",
      "Most frequent words in carroll-alice.txt:\n",
      ",          1993\n",
      "'          1731\n",
      "the        1642\n",
      "and         872\n",
      ".           764\n",
      "to          729\n",
      "a           632\n",
      "it          595\n",
      "she         553\n",
      "i           543\n",
      "of          514\n",
      "said        462\n",
      "you         411\n",
      "alice       398\n",
      ",'          397\n",
      "in          369\n",
      "was         357\n",
      "that        315\n",
      "!'          278\n",
      "as          263\n",
      "\n",
      "Most frequent words in melville-moby_dick.txt:\n",
      ",         18713\n",
      "the       14431\n",
      ".          6862\n",
      "of         6609\n",
      "and        6430\n",
      "a          4736\n",
      "to         4625\n",
      "in         4172\n",
      ";          4072\n",
      "that       3085\n",
      "'          2684\n",
      "-          2552\n",
      "his        2530\n",
      "it         2522\n",
      "i          2127\n",
      "he         1896\n",
      "but        1818\n",
      "s          1802\n",
      "as         1741\n",
      "is         1725\n",
      "\n",
      "Most frequent words in shakespeare-caesar.txt:\n",
      ",          2204\n",
      ".          1296\n",
      "and         627\n",
      "the         579\n",
      "i           533\n",
      ":           499\n",
      "to          446\n",
      "you         391\n",
      "'           384\n",
      "of          354\n",
      "?           296\n",
      "that        289\n",
      "a           267\n",
      "not         257\n",
      "is          253\n",
      "in          225\n",
      "d           215\n",
      "my          209\n",
      "it          198\n",
      "caesar      190\n",
      "\n"
     ]
    }
   ],
   "source": [
    "some_booknames = \\\n",
    "    [ 'austen-emma.txt', 'bible-kjv.txt', 'burgess-busterbrown.txt', \\\n",
    "      'carroll-alice.txt', 'melville-moby_dick.txt', 'shakespeare-caesar.txt' ]\n",
    "\n",
    "for name in some_booknames:\n",
    "    fdist = nltk.FreqDist(w.lower() for w in nltk.corpus.gutenberg.words(name))\n",
    "    print(\"Most frequent words in {:s}:\".format(name))\n",
    "    for w, f in fdist.most_common(20):\n",
    "        print(\"{:8s} {:6d}\".format(w, f))\n",
    "    print()"
   ]
  },
  {
   "cell_type": "markdown",
   "metadata": {},
   "source": [
    "### Inverse document frequencies\n",
    "\n",
    "To obtain inverse document frequencies, we first compute the **document frequencies**: For every word type, we count the number of documents (= books) it occurs in:"
   ]
  },
  {
   "cell_type": "code",
   "execution_count": 7,
   "metadata": {},
   "outputs": [],
   "source": [
    "from collections import defaultdict\n",
    "\n",
    "df = defaultdict(int)\n",
    "\n",
    "for name in booknames:\n",
    "    for word in set(w.lower() for w in nltk.corpus.gutenberg.words(name)):\n",
    "        df[word] += 1"
   ]
  },
  {
   "cell_type": "markdown",
   "metadata": {},
   "source": [
    "From the document frequencies we compute the corresponding **inverse document frequency** (idf) values."
   ]
  },
  {
   "cell_type": "code",
   "execution_count": 8,
   "metadata": {},
   "outputs": [],
   "source": [
    "import math\n",
    "\n",
    "ndocs = len(booknames)\n",
    "idf = defaultdict(float)\n",
    "\n",
    "for w in df.keys():\n",
    "    idf[w] = math.log(ndocs / df[w])"
   ]
  },
  {
   "cell_type": "markdown",
   "metadata": {},
   "source": [
    "Next we sort the words by their document frequencies:"
   ]
  },
  {
   "cell_type": "code",
   "execution_count": 9,
   "metadata": {},
   "outputs": [],
   "source": [
    "df_sorted_words = sorted(df.keys(), key=lambda w: df[w], reverse=True)"
   ]
  },
  {
   "cell_type": "markdown",
   "metadata": {},
   "source": [
    "Let's take a look at some **words that occur in all the books**. What are their document and inverse document frequencies?"
   ]
  },
  {
   "cell_type": "code",
   "execution_count": 10,
   "metadata": {},
   "outputs": [
    {
     "name": "stdout",
     "output_type": "stream",
     "text": [
      "Examples of words that occur in all books (with df and idf values):\n",
      "bed                  18        0.000\n",
      "i                    18        0.000\n",
      "some                 18        0.000\n",
      "such                 18        0.000\n",
      "tongue               18        0.000\n",
      "want                 18        0.000\n",
      "about                18        0.000\n",
      "off                  18        0.000\n",
      "am                   18        0.000\n",
      "sweet                18        0.000\n"
     ]
    }
   ],
   "source": [
    "print(\"Examples of words that occur in all books (with df and idf values):\")\n",
    "for w in df_sorted_words[0:10]:\n",
    "    print(\"{:16s} {:6d} {:12.3f}\".format(w, df[w], idf[w]))"
   ]
  },
  {
   "cell_type": "markdown",
   "metadata": {},
   "source": [
    "And some words that only **occur in one single book**:"
   ]
  },
  {
   "cell_type": "code",
   "execution_count": 11,
   "metadata": {},
   "outputs": [
    {
     "name": "stdout",
     "output_type": "stream",
     "text": [
      "Examples of words that occur in only one book (with df and idf values):\n",
      "mizra                 1        2.890\n",
      "impell                1        2.890\n",
      "trippers              1        2.890\n",
      "imprints              1        2.890\n",
      "peelings              1        2.890\n",
      "stevedores            1        2.890\n",
      "machinists            1        2.890\n",
      "nativities            1        2.890\n",
      "laugher               1        2.890\n",
      "pregnancy             1        2.890\n"
     ]
    }
   ],
   "source": [
    "print(\"Examples of words that occur in only one book (with df and idf values):\")\n",
    "for w in df_sorted_words[-10:]:\n",
    "    print(\"{:16s} {:6d} {:12.3f}\".format(w, df[w], idf[w]))"
   ]
  },
  {
   "cell_type": "markdown",
   "metadata": {},
   "source": [
    "As well as some words that **occur in a few books**:"
   ]
  },
  {
   "cell_type": "code",
   "execution_count": 12,
   "metadata": {},
   "outputs": [
    {
     "name": "stdout",
     "output_type": "stream",
     "text": [
      "Examples of words that occur in some, but not all books:\n",
      "jokes                 6        1.099\n",
      "roused                6        1.099\n",
      "discerned             6        1.099\n",
      "meditations           6        1.099\n",
      "lists                 6        1.099\n",
      ".,                    6        1.099\n",
      "tax                   6        1.099\n",
      "unkind                6        1.099\n",
      "resisted              6        1.099\n",
      "intolerable           6        1.099\n"
     ]
    }
   ],
   "source": [
    "print(\"Examples of words that occur in some, but not all books:\")\n",
    "for w in df_sorted_words[5000:5010]:\n",
    "    print(\"{:16s} {:6d} {:12.3f}\".format(w, df[w], idf[w]))"
   ]
  },
  {
   "cell_type": "markdown",
   "metadata": {},
   "source": [
    "### Tf-idf: combining tf with idf\n",
    "\n",
    "How does it look, when we multiply tf with idf to get **tf-idf scores for all the words in the documents**? We display the 20 top scoring words for each document. "
   ]
  },
  {
   "cell_type": "code",
   "execution_count": 13,
   "metadata": {},
   "outputs": [
    {
     "name": "stdout",
     "output_type": "stream",
     "text": [
      "Highest tf-idf scoring words in austen-emma.txt:\n",
      "harriet          10.706 (tf: 3.704, idf: 2.890)\n",
      "weston           10.531 (tf: 3.643, idf: 2.890)\n",
      "knightley        10.376 (tf: 3.590, idf: 2.890)\n",
      "elton            10.363 (tf: 3.585, idf: 2.890)\n",
      "woodhouse        10.103 (tf: 3.496, idf: 2.890)\n",
      "fairfax           9.775 (tf: 3.382, idf: 2.890)\n",
      "hartfield         9.261 (tf: 3.204, idf: 2.890)\n",
      "highbury          8.951 (tf: 3.097, idf: 2.890)\n",
      "emma              8.651 (tf: 3.937, idf: 2.197)\n",
      "randalls          8.539 (tf: 2.954, idf: 2.890)\n",
      "cole              8.051 (tf: 2.785, idf: 2.890)\n",
      "goddard           8.009 (tf: 2.771, idf: 2.890)\n",
      "campbell          7.826 (tf: 2.708, idf: 2.890)\n",
      "donwell           7.776 (tf: 2.690, idf: 2.890)\n",
      "dixon             7.641 (tf: 2.643, idf: 2.890)\n",
      "enscombe          7.389 (tf: 2.556, idf: 2.890)\n",
      "churchill         7.361 (tf: 3.350, idf: 2.197)\n",
      "campbells         6.980 (tf: 2.415, idf: 2.890)\n",
      "bates             6.966 (tf: 3.170, idf: 2.197)\n",
      "_she_             6.880 (tf: 2.380, idf: 2.890)\n",
      "\n",
      "Highest tf-idf scoring words in bible-kjv.txt:\n",
      "levites           9.894 (tf: 3.423, idf: 2.890)\n",
      "cubits            9.620 (tf: 3.328, idf: 2.890)\n",
      "commandments      9.345 (tf: 3.233, idf: 2.890)\n",
      "zion              9.205 (tf: 3.185, idf: 2.890)\n",
      "jeremiah          9.172 (tf: 3.173, idf: 2.890)\n",
      "manasseh          9.155 (tf: 3.167, idf: 2.890)\n",
      "joab              9.138 (tf: 3.161, idf: 2.890)\n",
      "goeth             9.048 (tf: 3.130, idf: 2.890)\n",
      "saith             9.011 (tf: 4.101, idf: 2.197)\n",
      "hezekiah          8.981 (tf: 3.107, idf: 2.890)\n",
      "giveth            8.961 (tf: 3.100, idf: 2.890)\n",
      "samaria           8.941 (tf: 3.093, idf: 2.890)\n",
      "absalom           8.768 (tf: 3.033, idf: 2.890)\n",
      "knoweth           8.720 (tf: 3.017, idf: 2.890)\n",
      "gilead            8.684 (tf: 3.004, idf: 2.890)\n",
      "liveth            8.620 (tf: 2.982, idf: 2.890)\n",
      "doeth             8.620 (tf: 2.982, idf: 2.890)\n",
      "judah             8.595 (tf: 3.912, idf: 2.197)\n",
      "pharisees         8.496 (tf: 2.940, idf: 2.890)\n",
      "edom              8.482 (tf: 2.934, idf: 2.890)\n",
      "\n",
      "Highest tf-idf scoring words in burgess-busterbrown.txt:\n",
      "blacky            7.850 (tf: 2.716, idf: 2.890)\n",
      "billy             7.489 (tf: 2.591, idf: 2.890)\n",
      "buster            7.382 (tf: 3.360, idf: 2.197)\n",
      "chatterer         7.117 (tf: 2.462, idf: 2.890)\n",
      "mink              7.073 (tf: 2.447, idf: 2.890)\n",
      "jay               6.931 (tf: 2.398, idf: 2.890)\n",
      "reddy             6.447 (tf: 2.230, idf: 2.890)\n",
      "squirrel          6.110 (tf: 2.114, idf: 2.890)\n",
      "footprint         5.781 (tf: 2.000, idf: 2.890)\n",
      "sammy             5.764 (tf: 2.623, idf: 2.197)\n",
      "trout             5.643 (tf: 2.568, idf: 2.197)\n",
      "bobby             5.333 (tf: 1.845, idf: 2.890)\n",
      "unc               5.140 (tf: 1.778, idf: 2.890)\n",
      "grumbly           4.911 (tf: 1.699, idf: 2.890)\n",
      "rumbly            4.911 (tf: 1.699, idf: 2.890)\n",
      "jerry             4.911 (tf: 1.699, idf: 2.890)\n",
      "muskrat           4.911 (tf: 1.699, idf: 2.890)\n",
      "possum            4.911 (tf: 1.699, idf: 2.890)\n",
      "blueberries       4.911 (tf: 1.699, idf: 2.890)\n",
      "otter             4.851 (tf: 2.708, idf: 1.792)\n",
      "\n",
      "Highest tf-idf scoring words in carroll-alice.txt:\n",
      "duchess           7.582 (tf: 2.623, idf: 2.890)\n",
      "dormouse          7.521 (tf: 2.602, idf: 2.890)\n",
      "alice             6.450 (tf: 3.600, idf: 1.792)\n",
      "gryphon           6.021 (tf: 2.740, idf: 2.197)\n",
      "croquet           5.648 (tf: 1.954, idf: 2.890)\n",
      "whiting           5.501 (tf: 1.903, idf: 2.890)\n",
      "slates            5.501 (tf: 1.903, idf: 2.890)\n",
      "lory              5.333 (tf: 1.845, idf: 2.890)\n",
      "soo               5.333 (tf: 1.845, idf: 2.890)\n",
      "oop               5.333 (tf: 1.845, idf: 2.890)\n",
      "pigs              5.140 (tf: 1.778, idf: 2.890)\n",
      "wow               5.140 (tf: 1.778, idf: 2.890)\n",
      "hatter            4.924 (tf: 2.748, idf: 1.792)\n",
      "hookah            4.911 (tf: 1.699, idf: 2.890)\n",
      "flamingo          4.911 (tf: 1.699, idf: 2.890)\n",
      "dinah             4.716 (tf: 2.146, idf: 2.197)\n",
      "dodo              4.645 (tf: 2.114, idf: 2.197)\n",
      "ann               4.631 (tf: 1.602, idf: 2.890)\n",
      ",\"'               4.631 (tf: 1.602, idf: 2.890)\n",
      "ootiful           4.631 (tf: 1.602, idf: 2.890)\n",
      "\n",
      "Highest tf-idf scoring words in melville-moby_dick.txt:\n",
      "stubb             9.856 (tf: 3.410, idf: 2.890)\n",
      "queequeg          9.831 (tf: 3.401, idf: 2.890)\n",
      "starbuck          9.529 (tf: 3.297, idf: 2.890)\n",
      "pequod            9.359 (tf: 3.238, idf: 2.890)\n",
      "nantucket         8.620 (tf: 2.982, idf: 2.890)\n",
      "moby              8.452 (tf: 2.924, idf: 2.890)\n",
      "pip               8.293 (tf: 2.869, idf: 2.890)\n",
      "whalemen          8.259 (tf: 2.857, idf: 2.890)\n",
      "ahab              8.148 (tf: 3.708, idf: 2.197)\n",
      "tashtego          7.966 (tf: 2.756, idf: 2.890)\n",
      "harpooneers       7.943 (tf: 2.748, idf: 2.890)\n",
      "steelkilt         7.521 (tf: 2.602, idf: 2.890)\n",
      "sperm             7.443 (tf: 3.387, idf: 2.197)\n",
      "forecastle        7.423 (tf: 2.568, idf: 2.890)\n",
      "daggoo            7.423 (tf: 2.568, idf: 2.890)\n",
      "blubber           7.317 (tf: 2.531, idf: 2.890)\n",
      "hammock           7.279 (tf: 2.519, idf: 2.890)\n",
      "harpoons          7.241 (tf: 2.505, idf: 2.890)\n",
      "leeward           7.117 (tf: 2.462, idf: 2.890)\n",
      "shipmates         7.073 (tf: 2.447, idf: 2.890)\n",
      "\n",
      "Highest tf-idf scoring words in shakespeare-caesar.txt:\n",
      "bru               9.205 (tf: 3.185, idf: 2.890)\n",
      "cassi             8.756 (tf: 3.029, idf: 2.890)\n",
      "cassius           8.467 (tf: 2.929, idf: 2.890)\n",
      "caes              7.489 (tf: 2.591, idf: 2.890)\n",
      "brut              7.423 (tf: 2.568, idf: 2.890)\n",
      "caska             7.279 (tf: 2.519, idf: 2.890)\n",
      "luc               7.073 (tf: 2.447, idf: 2.890)\n",
      "brutus            7.046 (tf: 3.207, idf: 2.197)\n",
      "cinna             6.980 (tf: 2.415, idf: 2.890)\n",
      "messala           6.931 (tf: 2.398, idf: 2.890)\n",
      "titinius          6.826 (tf: 2.362, idf: 2.890)\n",
      "octauius          6.826 (tf: 2.362, idf: 2.890)\n",
      "cas               6.712 (tf: 2.322, idf: 2.890)\n",
      "messa             6.586 (tf: 2.279, idf: 2.890)\n",
      "octa              6.519 (tf: 2.255, idf: 2.890)\n",
      "capitoll          6.447 (tf: 2.230, idf: 2.890)\n",
      "decius            6.447 (tf: 2.230, idf: 2.890)\n",
      "por               6.371 (tf: 2.204, idf: 2.890)\n",
      "antony            6.317 (tf: 2.875, idf: 2.197)\n",
      "lucillius         6.203 (tf: 2.146, idf: 2.890)\n",
      "\n"
     ]
    }
   ],
   "source": [
    "# For each document (book) ...\n",
    "for bookname in some_booknames:\n",
    "    tf = {}\n",
    "    tfidf = {}\n",
    "    fdist = nltk.FreqDist(w.lower() for w in nltk.corpus.gutenberg.words(bookname))\n",
    "\n",
    "    # For each word in the document ...\n",
    "    for w, f in fdist.most_common():\n",
    "        # Compute the term frequency:\n",
    "        tf[w] = 1 + math.log10(f)\n",
    "        # ... as well as the tf-idf score:\n",
    "        tfidf[w] = tf[w] * idf[w]\n",
    "    \n",
    "    # Sort the words by tf-idf\n",
    "    tfidf_sorted_words = sorted(tfidf.keys(), key=lambda w: tfidf[w], reverse=True)\n",
    "    \n",
    "    # Show the highest scoring words in this document\n",
    "    print(\"Highest tf-idf scoring words in {:s}:\".format(bookname))\n",
    "    for w in tfidf_sorted_words[0:20]:\n",
    "        print(\"{:16s} {:6.3f} (tf: {:.3f}, idf: {:.3f})\".format(w, tfidf[w], tf[w], idf[w]))\n",
    "    print()"
   ]
  },
  {
   "cell_type": "markdown",
   "metadata": {},
   "source": [
    "Let's rerun the the tf-idf calculations, but instead of showing the highest scoring words in each document, we will show the scores of some (arbitrarily) selected words:"
   ]
  },
  {
   "cell_type": "code",
   "execution_count": 14,
   "metadata": {
    "scrolled": false
   },
   "outputs": [
    {
     "name": "stdout",
     "output_type": "stream",
     "text": [
      "Tf-idf scores of some selected words in austen-emma.txt:\n",
      "god              0.224 (tf: 1.903, idf: 0.118)\n",
      "jesus            missing\n",
      "rich             0.123 (tf: 2.146, idf: 0.057)\n",
      "handsome         1.270 (tf: 2.580, idf: 0.492)\n",
      "romantic         0.944 (tf: 1.000, idf: 0.944)\n",
      "secret           0.000 (tf: 2.322, idf: 0.000)\n",
      "honey            missing\n",
      "bear             0.155 (tf: 2.716, idf: 0.057)\n",
      "ahab             missing\n",
      "white            0.217 (tf: 1.845, idf: 0.118)\n",
      "whale            missing\n",
      "alice            missing\n",
      "wonderland       missing\n",
      "king             0.237 (tf: 1.301, idf: 0.182)\n",
      "queen            0.182 (tf: 1.000, idf: 0.182)\n",
      "lazy             0.944 (tf: 1.000, idf: 0.944)\n",
      "sin              0.693 (tf: 1.000, idf: 0.693)\n",
      "paradise         missing\n",
      "\n",
      "Tf-idf scores of some selected words in bible-kjv.txt:\n",
      "god              0.548 (tf: 4.651, idf: 0.118)\n",
      "jesus            5.114 (tf: 3.993, idf: 1.281)\n",
      "rich             0.166 (tf: 2.908, idf: 0.057)\n",
      "handsome         missing\n",
      "romantic         missing\n",
      "secret           0.000 (tf: 2.833, idf: 0.000)\n",
      "honey            2.229 (tf: 2.748, idf: 0.811)\n",
      "bear             0.190 (tf: 3.332, idf: 0.057)\n",
      "ahab             6.533 (tf: 2.973, idf: 2.197)\n",
      "white            0.339 (tf: 2.875, idf: 0.118)\n",
      "whale            1.623 (tf: 1.477, idf: 1.099)\n",
      "alice            missing\n",
      "wonderland       missing\n",
      "king             0.803 (tf: 4.405, idf: 0.182)\n",
      "queen            0.498 (tf: 2.732, idf: 0.182)\n",
      "lazy             missing\n",
      "sin              2.530 (tf: 3.650, idf: 0.693)\n",
      "paradise         1.198 (tf: 1.477, idf: 0.811)\n",
      "\n",
      "Tf-idf scores of some selected words in burgess-busterbrown.txt:\n",
      "god              missing\n",
      "jesus            missing\n",
      "rich             missing\n",
      "handsome         missing\n",
      "romantic         missing\n",
      "secret           0.000 (tf: 1.602, idf: 0.000)\n",
      "honey            1.198 (tf: 1.477, idf: 0.811)\n",
      "bear             0.182 (tf: 3.182, idf: 0.057)\n",
      "ahab             missing\n",
      "white            missing\n",
      "whale            missing\n",
      "alice            missing\n",
      "wonderland       missing\n",
      "king             missing\n",
      "queen            missing\n",
      "lazy             missing\n",
      "sin              missing\n",
      "paradise         missing\n",
      "\n",
      "Tf-idf scores of some selected words in carroll-alice.txt:\n",
      "god              missing\n",
      "jesus            missing\n",
      "rich             0.057 (tf: 1.000, idf: 0.057)\n",
      "handsome         0.492 (tf: 1.000, idf: 0.492)\n",
      "romantic         missing\n",
      "secret           0.000 (tf: 1.000, idf: 0.000)\n",
      "honey            missing\n",
      "bear             0.074 (tf: 1.301, idf: 0.057)\n",
      "ahab             missing\n",
      "white            0.292 (tf: 2.477, idf: 0.118)\n",
      "whale            missing\n",
      "alice            6.450 (tf: 3.600, idf: 1.792)\n",
      "wonderland       3.246 (tf: 1.477, idf: 2.197)\n",
      "king             0.510 (tf: 2.799, idf: 0.182)\n",
      "queen            0.524 (tf: 2.875, idf: 0.182)\n",
      "lazy             0.944 (tf: 1.000, idf: 0.944)\n",
      "sin              missing\n",
      "paradise         missing\n",
      "\n",
      "Tf-idf scores of some selected words in melville-moby_dick.txt:\n",
      "god              0.375 (tf: 3.182, idf: 0.118)\n",
      "jesus            1.281 (tf: 1.000, idf: 1.281)\n",
      "rich             0.109 (tf: 1.903, idf: 0.057)\n",
      "handsome         0.727 (tf: 1.477, idf: 0.492)\n",
      "romantic         1.743 (tf: 1.845, idf: 0.944)\n",
      "secret           0.000 (tf: 2.380, idf: 0.000)\n",
      "honey            1.198 (tf: 1.477, idf: 0.811)\n",
      "bear             0.147 (tf: 2.568, idf: 0.057)\n",
      "ahab             8.148 (tf: 3.708, idf: 2.197)\n",
      "white            0.406 (tf: 3.449, idf: 0.118)\n",
      "whale            4.492 (tf: 4.088, idf: 1.099)\n",
      "alice            missing\n",
      "wonderland       missing\n",
      "king             0.512 (tf: 2.806, idf: 0.182)\n",
      "queen            0.411 (tf: 2.255, idf: 0.182)\n",
      "lazy             1.395 (tf: 1.477, idf: 0.944)\n",
      "sin              1.319 (tf: 1.903, idf: 0.693)\n",
      "paradise         1.378 (tf: 1.699, idf: 0.811)\n",
      "\n",
      "Tf-idf scores of some selected words in shakespeare-caesar.txt:\n",
      "god              0.174 (tf: 1.477, idf: 0.118)\n",
      "jesus            missing\n",
      "rich             0.074 (tf: 1.301, idf: 0.057)\n",
      "handsome         missing\n",
      "romantic         missing\n",
      "secret           0.000 (tf: 1.301, idf: 0.000)\n",
      "honey            missing\n",
      "bear             missing\n",
      "ahab             missing\n",
      "white            missing\n",
      "whale            missing\n",
      "alice            missing\n",
      "wonderland       missing\n",
      "king             0.292 (tf: 1.602, idf: 0.182)\n",
      "queen            missing\n",
      "lazy             missing\n",
      "sin              missing\n",
      "paradise         missing\n",
      "\n"
     ]
    }
   ],
   "source": [
    "selected_words = [ \"god\", \"jesus\", \"rich\", \"handsome\", \"romantic\", \"secret\",\n",
    "                   \"honey\", \"bear\", \"ahab\", \"white\", \"whale\", \"alice\",\n",
    "                   \"wonderland\", \"king\", \"queen\", \"lazy\", \"sin\", \"paradise\" ]\n",
    "\n",
    "for bookname in some_booknames:\n",
    "    tf = {}\n",
    "    tfidf = {}\n",
    "    fdist = nltk.FreqDist(w.lower() for w in nltk.corpus.gutenberg.words(bookname))\n",
    "    for w, f in fdist.most_common():\n",
    "        tf[w] = 1 + math.log10(f)\n",
    "        tfidf[w] = tf[w] * idf[w]\n",
    "\n",
    "    print(\"Tf-idf scores of some selected words in {:s}:\".format(bookname))\n",
    "    for w in selected_words:\n",
    "        if w in tfidf.keys():\n",
    "            print(\"{:16s} {:5.3f} (tf: {:.3f}, idf: {:.3f})\"\n",
    "                  .format(w, tfidf[w], tf[w], idf[w]))\n",
    "        else:\n",
    "            print(\"{:16s} missing\".format(w))\n",
    "    print()"
   ]
  },
  {
   "cell_type": "markdown",
   "metadata": {},
   "source": [
    "Does this make sense?\n",
    "\n",
    "How come the tf-idf score is zero for some words? What might be the consequences of this? Are there any weaknesses in this approach? "
   ]
  }
 ],
 "metadata": {
  "kernelspec": {
   "display_name": "Python 3",
   "language": "python",
   "name": "python3"
  },
  "language_info": {
   "codemirror_mode": {
    "name": "ipython",
    "version": 3
   },
   "file_extension": ".py",
   "mimetype": "text/x-python",
   "name": "python",
   "nbconvert_exporter": "python",
   "pygments_lexer": "ipython3",
   "version": "3.7.2"
  }
 },
 "nbformat": 4,
 "nbformat_minor": 2
}
